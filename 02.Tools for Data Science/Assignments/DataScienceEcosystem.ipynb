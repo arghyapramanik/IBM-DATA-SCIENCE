{
 "cells": [
  {
   "cell_type": "markdown",
   "id": "257476d5-f8ff-47e0-9053-992317d7b910",
   "metadata": {},
   "source": [
    "# Data Science Tools and Ecosystem"
   ]
  },
  {
   "cell_type": "markdown",
   "id": "251f2a2e-3bc9-4ae8-a250-310bc269c12b",
   "metadata": {},
   "source": [
    "## In this notebook, Data Science Tools and Ecosystem are summarized."
   ]
  },
  {
   "cell_type": "markdown",
   "id": "b447c96f-0f2d-45e1-b497-4d0fe83ef0e8",
   "metadata": {},
   "source": [
    "### Some of the popular languages that Data Scientists use are:\n",
    "1. Python\n",
    "2. R\n",
    "3. Java\n",
    "4. Scala"
   ]
  },
  {
   "cell_type": "markdown",
   "id": "eefa0ede-9c0f-4bf5-987f-a43e7a8c1eff",
   "metadata": {},
   "source": [
    "#### Some of the commonly used libraries used by Data Scientists include:\n",
    "1. Numpy\n",
    "2. Pandas\n",
    "3. Matplotlib\n",
    "4. Tensorflow"
   ]
  },
  {
   "cell_type": "markdown",
   "id": "115e1914-fd65-4d71-b834-897a12783371",
   "metadata": {},
   "source": [
    "| Data Science Tools |\n",
    "| -------------------- |\n",
    "| R Studio |\n",
    "| VS Code |\n",
    "| Jupyter lab |"
   ]
  },
  {
   "cell_type": "markdown",
   "id": "c5743d59-ad85-48a4-9e68-9615d10f76ad",
   "metadata": {},
   "source": [
    "### Below are a few examples of evaluating arithmetic expressions in Python"
   ]
  },
  {
   "cell_type": "code",
   "execution_count": null,
   "id": "d1656fe8-622b-49d7-8800-9784b18f2427",
   "metadata": {},
   "outputs": [
    {
     "data": {
      "text/plain": [
       "17"
      ]
     },
     "execution_count": 4,
     "metadata": {},
     "output_type": "execute_result"
    }
   ],
   "source": [
    "# This a simple arithmetic expression to mutiply then add integers\n",
    "(3*4)+5"
   ]
  },
  {
   "cell_type": "code",
   "execution_count": null,
   "id": "22d5b54f-c2a4-47ce-9c6c-4a4ad6e8a4d2",
   "metadata": {},
   "outputs": [
    {
     "name": "stdout",
     "output_type": "stream",
     "text": [
      "Enter how many Minutes to convert:  200\n"
     ]
    },
    {
     "name": "stdout",
     "output_type": "stream",
     "text": [
      "Converting 200 minutes in hours, we get 3 hours\n"
     ]
    }
   ],
   "source": [
    "# This will convert 200 minutes to hours by diving by 60\n",
    "import math\n",
    "min=int(input(\"Enter how many Minutes to convert: \"))\n",
    "x=min/60\n",
    "hour=math.floor(x)\n",
    "print(f\"Converting \"+str(min)+\" minutes in hours, we get \"+str(hour)+\" hours\")"
   ]
  },
  {
   "cell_type": "markdown",
   "id": "e4b7489e-d825-4b8b-be4a-68c7aae9f042",
   "metadata": {},
   "source": [
    "# **Objectives**\n",
    "- Popular languages in Data Science\n",
    "- Commonly used libraries in Data Science\n",
    "- Data Science tools\n",
    "- Arithmetic expression code sample in Python\n",
    "- Minutes to hour conversion code sample in Python"
   ]
  },
  {
   "cell_type": "markdown",
   "id": "36902155-b91c-4d0f-a97e-a012b790be81",
   "metadata": {},
   "source": [
    "## Author\n",
    "Arghya Pramanik"
   ]
  },
  {
   "cell_type": "code",
   "execution_count": null,
   "id": "8953900e-98b7-4f53-8922-3b84760cbd39",
   "metadata": {},
   "outputs": [],
   "source": []
  }
 ],
 "metadata": {
  "kernelspec": {
   "display_name": "Python 3 (ipykernel)",
   "language": "python",
   "name": "python3"
  },
  "language_info": {
   "codemirror_mode": {
    "name": "ipython",
    "version": 3
   },
   "file_extension": ".py",
   "mimetype": "text/x-python",
   "name": "python",
   "nbconvert_exporter": "python",
   "pygments_lexer": "ipython3",
   "version": "3.11.7"
  }
 },
 "nbformat": 4,
 "nbformat_minor": 5
}
